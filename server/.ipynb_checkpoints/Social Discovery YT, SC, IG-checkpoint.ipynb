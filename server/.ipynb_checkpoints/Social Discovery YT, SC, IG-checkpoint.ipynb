{
 "cells": [
  {
   "cell_type": "code",
   "execution_count": 25,
   "metadata": {
    "collapsed": true
   },
   "outputs": [],
   "source": [
    "import requests\n",
    "from bs4 import BeautifulSoup\n",
    "import json"
   ]
  },
  {
   "cell_type": "code",
   "execution_count": null,
   "metadata": {
    "collapsed": false
   },
   "outputs": [],
   "source": []
  },
  {
   "cell_type": "code",
   "execution_count": 4,
   "metadata": {
    "collapsed": false
   },
   "outputs": [],
   "source": []
  },
  {
   "cell_type": "code",
   "execution_count": 5,
   "metadata": {
    "collapsed": true
   },
   "outputs": [],
   "source": []
  },
  {
   "cell_type": "code",
   "execution_count": 17,
   "metadata": {
    "collapsed": false
   },
   "outputs": [],
   "source": [
    "html = requests.get(\"https://www.youtube.com/user/bartkwan/channels\").text\n",
    "bs = BeautifulSoup(html)\n",
    "channels = []\n",
    "for li in bs.find_all(\"li\",{\"class\":\"channels-content-item\"}):\n",
    "    subs = li.find(\"span\",{\"class\":\"yt-subscription-button-subscriber-count-unbranded-horizontal\"})[\"aria-label\"]\n",
    "    subs = int(subs.replace(\",\",\"\").split()[0])\n",
    "    name = li.find(\"h3\").text.split(\" - \")[0]\n",
    "    link = li.find(\"a\")[\"href\"]\n",
    "    logo = li.find(\"img\")[\"src\"]\n",
    "    cols = [\"subs\",\"name\",\"link\",\"logo\"]\n",
    "    vals = [subs,name,link,logo]\n",
    "    channels.append(dict(zip(cols, vals)))"
   ]
  },
  {
   "cell_type": "code",
   "execution_count": 19,
   "metadata": {
    "collapsed": false
   },
   "outputs": [],
   "source": [
    "html = requests.get(\"https://instagram.com/p/2Mf1UgTVxk/\").text\n",
    "bs = BeautifulSoup(html)\n",
    "lol = bs.find_all(\"script\")[-4].text[21:]\n",
    "lol = json.loads(lol[:-1])\n",
    "#user = lol[\"entry_data\"][\"ProfilePage\"][0][\"user\"]\n",
    "user = lol[\"entry_data\"][\"PostPage\"][0][\"media\"][\"owner\"]"
   ]
  },
  {
   "cell_type": "code",
   "execution_count": 20,
   "metadata": {
    "collapsed": true
   },
   "outputs": [],
   "source": []
  },
  {
   "cell_type": "code",
   "execution_count": 57,
   "metadata": {
    "collapsed": false
   },
   "outputs": [],
   "source": [
    "r = requests.get(\"https://api.soundcloud.com/users/113250487/followings?client_id=02gUJC0hH2ct1EGOcYXQIzRFU91c72Ea&limit=250\")"
   ]
  },
  {
   "cell_type": "code",
   "execution_count": 58,
   "metadata": {
    "collapsed": false
   },
   "outputs": [
    {
     "data": {
      "text/plain": [
       "174"
      ]
     },
     "execution_count": 58,
     "metadata": {},
     "output_type": "execute_result"
    }
   ],
   "source": [
    "len(r.json())"
   ]
  },
  {
   "cell_type": "code",
   "execution_count": 61,
   "metadata": {
    "collapsed": true
   },
   "outputs": [],
   "source": [
    "import metadata_parser"
   ]
  },
  {
   "cell_type": "code",
   "execution_count": 59,
   "metadata": {
    "collapsed": false
   },
   "outputs": [],
   "source": [
    "# json scrape / scrape\n",
    "html = requests.get(\"https://soundcloud.com/edm/blackmail-by-dallask-henry\").text\n",
    "bs = BeautifulSoup(html)\n",
    "md = page = metadata_parser.MetadataParser(html=r.text)\n",
    "song_info = json.loads(bs.find_all(\"script\")[-1].text.split(\"c,o,i=\")[-1].split(\",u=Date\")[0])"
   ]
  },
  {
   "cell_type": "code",
   "execution_count": null,
   "metadata": {
    "collapsed": false
   },
   "outputs": [],
   "source": [
    "# html scrape\n",
    "url = \"https://soundcloud.com/edm/blackmail-by-dallask-henry\"\n",
    "html = requests.get(\"http://localhost:8950/render.html?url=\").text"
   ]
  },
  {
   "cell_type": "code",
   "execution_count": 84,
   "metadata": {
    "collapsed": false
   },
   "outputs": [],
   "source": [
    "from splinter import Browser"
   ]
  },
  {
   "cell_type": "code",
   "execution_count": null,
   "metadata": {
    "collapsed": false
   },
   "outputs": [],
   "source": []
  },
  {
   "cell_type": "code",
   "execution_count": null,
   "metadata": {
    "collapsed": false
   },
   "outputs": [],
   "source": []
  },
  {
   "cell_type": "code",
   "execution_count": null,
   "metadata": {
    "collapsed": true
   },
   "outputs": [],
   "source": []
  }
 ],
 "metadata": {
  "kernelspec": {
   "display_name": "Python 2",
   "language": "python",
   "name": "python2"
  },
  "language_info": {
   "codemirror_mode": {
    "name": "ipython",
    "version": 2
   },
   "file_extension": ".py",
   "mimetype": "text/x-python",
   "name": "python",
   "nbconvert_exporter": "python",
   "pygments_lexer": "ipython2",
   "version": "2.7.10"
  }
 },
 "nbformat": 4,
 "nbformat_minor": 0
}
